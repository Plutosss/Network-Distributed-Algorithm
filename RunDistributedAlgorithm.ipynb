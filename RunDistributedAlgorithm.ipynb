{
  "nbformat": 4,
  "nbformat_minor": 0,
  "metadata": {
    "colab": {
      "name": "Untitled0.ipynb",
      "private_outputs": true,
      "provenance": [],
      "collapsed_sections": [],
      "mount_file_id": "1R5-VOsd-G5o0As72RJJA4cBjjqD4S6_p",
      "authorship_tag": "ABX9TyOYg6BsPgpEePw1a4z3aI/f",
      "include_colab_link": true
    },
    "kernelspec": {
      "name": "python3",
      "display_name": "Python 3"
    },
    "language_info": {
      "name": "python"
    }
  },
  "cells": [
    {
      "cell_type": "markdown",
      "metadata": {
        "id": "view-in-github",
        "colab_type": "text"
      },
      "source": [
        "<a href=\"https://colab.research.google.com/github/Plutosss/Network-Distributed-Algorithm/blob/master/RunDistributedAlgorithm.ipynb\" target=\"_parent\"><img src=\"https://colab.research.google.com/assets/colab-badge.svg\" alt=\"Open In Colab\"/></a>"
      ]
    },
    {
      "cell_type": "code",
      "metadata": {
        "id": "CifSUM9QZ2BX"
      },
      "source": [
        "#挂载网盘\n",
        "from google.colab import drive\n",
        "drive.mount('/content/gdrive')"
      ],
      "execution_count": null,
      "outputs": []
    },
    {
      "cell_type": "code",
      "metadata": {
        "id": "FdpjP1HXNOem"
      },
      "source": [
        "%cd /content/drive/MyDrive/modified_algorithm/\n",
        "%matplotlib\n",
        "%matplotlib inline\n",
        "%run exp_linear_regression.py"
      ],
      "execution_count": null,
      "outputs": []
    },
    {
      "cell_type": "code",
      "metadata": {
        "id": "o92gv3OMNGXH"
      },
      "source": [
        "%matplotlib\n",
        "%matplotlib inline\n",
        "%run exp_logistic_regression.py"
      ],
      "execution_count": null,
      "outputs": []
    },
    {
      "cell_type": "code",
      "metadata": {
        "id": "X2osnMZXQAxr"
      },
      "source": [
        "%matplotlib\n",
        "%matplotlib inline\n",
        "%run exp_nn.py       "
      ],
      "execution_count": null,
      "outputs": []
    }
  ]
}